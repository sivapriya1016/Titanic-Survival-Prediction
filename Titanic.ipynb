{
 "cells": [
  {
   "cell_type": "code",
   "execution_count": null,
   "id": "c457b505",
   "metadata": {},
   "outputs": [],
   "source": [
    "In this section, we import all the necessary **Python libraries** required for data analysis, visualization, machine learning model development, and model explainability.\n",
    "\n",
    "###  Core Libraries\n",
    "- **pandas** → For data manipulation and analysis  \n",
    "- **numpy** → For numerical operations and handling arrays  \n",
    "- **matplotlib** & **seaborn** → For data visualization\n",
    "\n",
    "### Data Preprocessing and Evaluation\n",
    "- **train_test_split** → To split the dataset into training and testing sets  \n",
    "- **LabelEncoder** → To encode categorical variables into numeric format  \n",
    "- **StandardScaler** → To scale features for better model performance  \n",
    "- **accuracy_score**, **classification_report** → To evaluate the model’s accuracy and performance\n",
    "\n",
    "###  Machine Learning Algorithms\n",
    "- **LogisticRegression** → For linear classification tasks  \n",
    "- **KNeighborsClassifier** → For instance-based learning (KNN)  \n",
    "- **DecisionTreeClassifier** → For tree-based classification  \n",
    "- **RandomForestClassifier** → Ensemble learning using multiple decision trees  \n",
    "- **StackingClassifier** → Combines multiple models (meta-ensemble approach)  \n",
    "- **SVC** → Support Vector Machine for classification  \n",
    "- **KMeans** → Unsupervised learning (clustering)\n",
    "\n",
    "### Model Explainability\n",
    "- **SHAP (SHapley Additive exPlanations)** → For interpreting and visualizing the impact of each feature on the model’s output"
   ]
  },
  {
   "cell_type": "code",
   "execution_count": null,
   "id": "73046cec",
   "metadata": {},
   "outputs": [],
   "source": [
    "#1: Import Libraries\n",
    "import pandas as pd\n",
    "import numpy as np\n",
    "import matplotlib.pyplot as plt\n",
    "import seaborn as sns\n",
    "\n",
    "from sklearn.model_selection import train_test_split\n",
    "from sklearn.preprocessing import LabelEncoder, StandardScaler\n",
    "from sklearn.metrics import accuracy_score, classification_report\n",
    "\n",
    "# ML Algorithms\n",
    "from sklearn.linear_model import LogisticRegression\n",
    "from sklearn.neighbors import KNeighborsClassifier\n",
    "from sklearn.tree import DecisionTreeClassifier\n",
    "from sklearn.ensemble import RandomForestClassifier, StackingClassifier\n",
    "from sklearn.svm import SVC\n",
    "from sklearn.cluster import KMeans\n",
    "\n",
    "# For Explainability\n",
    "import shap"
   ]
  },
  {
   "cell_type": "markdown",
   "id": "02aa4b66",
   "metadata": {},
   "source": [
    "2.loaded the Titanic dataset and displayed the first 5 rows to see the data"
   ]
  },
  {
   "cell_type": "code",
   "execution_count": 40,
   "id": "3b299e4e",
   "metadata": {},
   "outputs": [
    {
     "name": "stdout",
     "output_type": "stream",
     "text": [
      "   PassengerId  Survived  Pclass  \\\n",
      "0            1         0       3   \n",
      "1            2         1       1   \n",
      "2            3         1       3   \n",
      "3            4         1       1   \n",
      "4            5         0       3   \n",
      "\n",
      "                                                Name     Sex   Age  SibSp  \\\n",
      "0                            Braund, Mr. Owen Harris    male  22.0      1   \n",
      "1  Cumings, Mrs. John Bradley (Florence Briggs Th...  female  38.0      1   \n",
      "2                             Heikkinen, Miss. Laina  female  26.0      0   \n",
      "3       Futrelle, Mrs. Jacques Heath (Lily May Peel)  female  35.0      1   \n",
      "4                           Allen, Mr. William Henry    male  35.0      0   \n",
      "\n",
      "   Parch            Ticket     Fare Cabin Embarked  \n",
      "0      0         A/5 21171   7.2500   NaN        S  \n",
      "1      0          PC 17599  71.2833   C85        C  \n",
      "2      0  STON/O2. 3101282   7.9250   NaN        S  \n",
      "3      0            113803  53.1000  C123        S  \n",
      "4      0            373450   8.0500   NaN        S  \n"
     ]
    }
   ],
   "source": [
    "df = pd.read_csv(r\"C:\\Users\\Admin\\Downloads\\Titanic-Dataset.csv\")\n",
    "print(df.head())\n"
   ]
  },
  {
   "cell_type": "code",
   "execution_count": 41,
   "id": "0e8814f5",
   "metadata": {},
   "outputs": [
    {
     "data": {
      "text/plain": [
       "(891, 12)"
      ]
     },
     "execution_count": 41,
     "metadata": {},
     "output_type": "execute_result"
    }
   ],
   "source": [
    "df.shape"
   ]
  },
  {
   "cell_type": "code",
   "execution_count": 42,
   "id": "b3d1127f",
   "metadata": {},
   "outputs": [
    {
     "data": {
      "text/html": [
       "<div>\n",
       "<style scoped>\n",
       "    .dataframe tbody tr th:only-of-type {\n",
       "        vertical-align: middle;\n",
       "    }\n",
       "\n",
       "    .dataframe tbody tr th {\n",
       "        vertical-align: top;\n",
       "    }\n",
       "\n",
       "    .dataframe thead th {\n",
       "        text-align: right;\n",
       "    }\n",
       "</style>\n",
       "<table border=\"1\" class=\"dataframe\">\n",
       "  <thead>\n",
       "    <tr style=\"text-align: right;\">\n",
       "      <th></th>\n",
       "      <th>PassengerId</th>\n",
       "      <th>Survived</th>\n",
       "      <th>Pclass</th>\n",
       "      <th>Age</th>\n",
       "      <th>SibSp</th>\n",
       "      <th>Parch</th>\n",
       "      <th>Fare</th>\n",
       "    </tr>\n",
       "  </thead>\n",
       "  <tbody>\n",
       "    <tr>\n",
       "      <th>count</th>\n",
       "      <td>891.000000</td>\n",
       "      <td>891.000000</td>\n",
       "      <td>891.000000</td>\n",
       "      <td>714.000000</td>\n",
       "      <td>891.000000</td>\n",
       "      <td>891.000000</td>\n",
       "      <td>891.000000</td>\n",
       "    </tr>\n",
       "    <tr>\n",
       "      <th>mean</th>\n",
       "      <td>446.000000</td>\n",
       "      <td>0.383838</td>\n",
       "      <td>2.308642</td>\n",
       "      <td>29.699118</td>\n",
       "      <td>0.523008</td>\n",
       "      <td>0.381594</td>\n",
       "      <td>32.204208</td>\n",
       "    </tr>\n",
       "    <tr>\n",
       "      <th>std</th>\n",
       "      <td>257.353842</td>\n",
       "      <td>0.486592</td>\n",
       "      <td>0.836071</td>\n",
       "      <td>14.526497</td>\n",
       "      <td>1.102743</td>\n",
       "      <td>0.806057</td>\n",
       "      <td>49.693429</td>\n",
       "    </tr>\n",
       "    <tr>\n",
       "      <th>min</th>\n",
       "      <td>1.000000</td>\n",
       "      <td>0.000000</td>\n",
       "      <td>1.000000</td>\n",
       "      <td>0.420000</td>\n",
       "      <td>0.000000</td>\n",
       "      <td>0.000000</td>\n",
       "      <td>0.000000</td>\n",
       "    </tr>\n",
       "    <tr>\n",
       "      <th>25%</th>\n",
       "      <td>223.500000</td>\n",
       "      <td>0.000000</td>\n",
       "      <td>2.000000</td>\n",
       "      <td>20.125000</td>\n",
       "      <td>0.000000</td>\n",
       "      <td>0.000000</td>\n",
       "      <td>7.910400</td>\n",
       "    </tr>\n",
       "    <tr>\n",
       "      <th>50%</th>\n",
       "      <td>446.000000</td>\n",
       "      <td>0.000000</td>\n",
       "      <td>3.000000</td>\n",
       "      <td>28.000000</td>\n",
       "      <td>0.000000</td>\n",
       "      <td>0.000000</td>\n",
       "      <td>14.454200</td>\n",
       "    </tr>\n",
       "    <tr>\n",
       "      <th>75%</th>\n",
       "      <td>668.500000</td>\n",
       "      <td>1.000000</td>\n",
       "      <td>3.000000</td>\n",
       "      <td>38.000000</td>\n",
       "      <td>1.000000</td>\n",
       "      <td>0.000000</td>\n",
       "      <td>31.000000</td>\n",
       "    </tr>\n",
       "    <tr>\n",
       "      <th>max</th>\n",
       "      <td>891.000000</td>\n",
       "      <td>1.000000</td>\n",
       "      <td>3.000000</td>\n",
       "      <td>80.000000</td>\n",
       "      <td>8.000000</td>\n",
       "      <td>6.000000</td>\n",
       "      <td>512.329200</td>\n",
       "    </tr>\n",
       "  </tbody>\n",
       "</table>\n",
       "</div>"
      ],
      "text/plain": [
       "       PassengerId    Survived      Pclass         Age       SibSp  \\\n",
       "count   891.000000  891.000000  891.000000  714.000000  891.000000   \n",
       "mean    446.000000    0.383838    2.308642   29.699118    0.523008   \n",
       "std     257.353842    0.486592    0.836071   14.526497    1.102743   \n",
       "min       1.000000    0.000000    1.000000    0.420000    0.000000   \n",
       "25%     223.500000    0.000000    2.000000   20.125000    0.000000   \n",
       "50%     446.000000    0.000000    3.000000   28.000000    0.000000   \n",
       "75%     668.500000    1.000000    3.000000   38.000000    1.000000   \n",
       "max     891.000000    1.000000    3.000000   80.000000    8.000000   \n",
       "\n",
       "            Parch        Fare  \n",
       "count  891.000000  891.000000  \n",
       "mean     0.381594   32.204208  \n",
       "std      0.806057   49.693429  \n",
       "min      0.000000    0.000000  \n",
       "25%      0.000000    7.910400  \n",
       "50%      0.000000   14.454200  \n",
       "75%      0.000000   31.000000  \n",
       "max      6.000000  512.329200  "
      ]
     },
     "execution_count": 42,
     "metadata": {},
     "output_type": "execute_result"
    }
   ],
   "source": [
    "df.describe()"
   ]
  },
  {
   "cell_type": "code",
   "execution_count": 43,
   "id": "1d11c972",
   "metadata": {},
   "outputs": [
    {
     "data": {
      "text/plain": [
       "PassengerId      0\n",
       "Survived         0\n",
       "Pclass           0\n",
       "Name             0\n",
       "Sex              0\n",
       "Age            177\n",
       "SibSp            0\n",
       "Parch            0\n",
       "Ticket           0\n",
       "Fare             0\n",
       "Cabin          687\n",
       "Embarked         2\n",
       "dtype: int64"
      ]
     },
     "execution_count": 43,
     "metadata": {},
     "output_type": "execute_result"
    }
   ],
   "source": [
    "df.isnull().sum()"
   ]
  },
  {
   "cell_type": "markdown",
   "id": "dc90880f",
   "metadata": {},
   "source": [
    " 3. Data Preprocessing\n",
    "# Fill missing values"
   ]
  },
  {
   "cell_type": "markdown",
   "id": "903a5eaa",
   "metadata": {},
   "source": [
    "I filled missing Age and Fare values with the median so the dataset has no blanks"
   ]
  },
  {
   "cell_type": "code",
   "execution_count": null,
   "id": "e6e9f9dc",
   "metadata": {},
   "outputs": [],
   "source": [
    "df['Age'] = df['Age'].fillna(df['Age'].median())\n",
    "df['Fare'] = df['Fare'].fillna(df['Fare'].median())\n",
    "df['Embarked'] = df['Embarked'].fillna(df['Embarked'].mode()[0])\n",
    "\n"
   ]
  },
  {
   "cell_type": "markdown",
   "id": "ac99c08d",
   "metadata": {},
   "source": [
    "# Feature Engineering: extract title from Name\n"
   ]
  },
  {
   "cell_type": "markdown",
   "id": "5a1c56e5",
   "metadata": {},
   "source": [
    "extracted the title (Mr, Mrs, etc.) from the Name and group all uncommon titles as ‘Rare’ to simplify the data"
   ]
  },
  {
   "cell_type": "code",
   "execution_count": 45,
   "id": "240f1192",
   "metadata": {},
   "outputs": [],
   "source": [
    "# Extract Title from Name (use raw string for regex)\n",
    "df['Title'] = df['Name'].str.extract(r' ([A-Za-z]+)\\.', expand=False)\n",
    "\n",
    "# Replace rare titles with \"Rare\"\n",
    "df['Title'] = df['Title'].replace(\n",
    "    ['Lady','Countess','Capt','Col','Don','Dr','Major','Rev','Sir','Jonkheer','Dona'],\n",
    "    'Rare'\n",
    ")"
   ]
  },
  {
   "cell_type": "markdown",
   "id": "32abdd5c",
   "metadata": {},
   "source": [
    " Combined family-related information into a single feature, FamilySize."
   ]
  },
  {
   "cell_type": "code",
   "execution_count": 46,
   "id": "9a899bb8",
   "metadata": {},
   "outputs": [],
   "source": [
    "df['FamilySize'] = df['SibSp'] + df['Parch'] + 1\n",
    "df['IsAlone'] = (df['FamilySize'] == 1).astype(int)\n"
   ]
  },
  {
   "cell_type": "markdown",
   "id": "910a02fe",
   "metadata": {},
   "source": [
    "take the first letter of the Cabin to represent the deck and mark missing cabins as ‘U’ for unknown"
   ]
  },
  {
   "cell_type": "code",
   "execution_count": 47,
   "id": "0e90c7f9",
   "metadata": {},
   "outputs": [],
   "source": [
    "df['CabinLetter'] = df['Cabin'].fillna('U').astype(str).str[0]\n"
   ]
  },
  {
   "cell_type": "markdown",
   "id": "ffdd6077",
   "metadata": {},
   "source": [
    "KMeans groups similar passengers and assigns each a cluster number for use in prediction"
   ]
  },
  {
   "cell_type": "code",
   "execution_count": 48,
   "id": "1a694d9c",
   "metadata": {},
   "outputs": [],
   "source": [
    "features_for_cluster = df[['Age','Fare','Pclass','FamilySize']].fillna(0)\n",
    "kmeans = KMeans(n_clusters=5, random_state=42)\n",
    "df['Cluster'] = kmeans.fit_predict(features_for_cluster)\n"
   ]
  },
  {
   "cell_type": "markdown",
   "id": "63aeb42c",
   "metadata": {},
   "source": [
    "converedt text columns like Sex, Embarked, Title, and CabinLetter into numbers using LabelEncoder so the model can process them."
   ]
  },
  {
   "cell_type": "code",
   "execution_count": 49,
   "id": "152f42af",
   "metadata": {},
   "outputs": [],
   "source": [
    "le = LabelEncoder()\n",
    "df['Sex'] = le.fit_transform(df['Sex'])\n",
    "df['Embarked'] = le.fit_transform(df['Embarked'])\n",
    "df['Title'] = le.fit_transform(df['Title'])\n",
    "df['CabinLetter'] = le.fit_transform(df['CabinLetter'])"
   ]
  },
  {
   "cell_type": "code",
   "execution_count": 50,
   "id": "b8098e18",
   "metadata": {},
   "outputs": [],
   "source": [
    "df.drop(columns=['Name','Ticket','PassengerId','Cabin'], inplace=True)\n"
   ]
  },
  {
   "cell_type": "code",
   "execution_count": 51,
   "id": "46e07ac2",
   "metadata": {},
   "outputs": [
    {
     "data": {
      "text/plain": [
       "Index(['Survived', 'Pclass', 'Sex', 'Age', 'SibSp', 'Parch', 'Fare',\n",
       "       'Embarked', 'Title', 'FamilySize', 'IsAlone', 'CabinLetter', 'Cluster'],\n",
       "      dtype='object')"
      ]
     },
     "execution_count": 51,
     "metadata": {},
     "output_type": "execute_result"
    }
   ],
   "source": [
    "df.columns"
   ]
  },
  {
   "cell_type": "markdown",
   "id": "64e40e9f",
   "metadata": {},
   "source": [
    "We split the data into features (X) and target (y), then into training and testing sets.\n",
    "After that, we scaled the features using StandardScaler so all values are on the same range for better model performance.”"
   ]
  },
  {
   "cell_type": "code",
   "execution_count": 52,
   "id": "40958d68",
   "metadata": {},
   "outputs": [],
   "source": [
    "X = df.drop('Survived', axis=1)\n",
    "y = df['Survived']\n",
    "\n",
    "X_train, X_test, y_train, y_test = train_test_split(\n",
    "    X, y, test_size=0.2, random_state=42\n",
    ")\n",
    "\n",
    "scaler = StandardScaler()\n",
    "X_train = scaler.fit_transform(X_train)\n",
    "X_test = scaler.transform(X_test)"
   ]
  },
  {
   "cell_type": "code",
   "execution_count": 53,
   "id": "d62c75d6",
   "metadata": {},
   "outputs": [
    {
     "name": "stdout",
     "output_type": "stream",
     "text": [
      "\n",
      "Logistic Regression Accuracy: 0.8101\n",
      "              precision    recall  f1-score   support\n",
      "\n",
      "           0       0.83      0.86      0.84       105\n",
      "           1       0.79      0.74      0.76        74\n",
      "\n",
      "    accuracy                           0.81       179\n",
      "   macro avg       0.81      0.80      0.80       179\n",
      "weighted avg       0.81      0.81      0.81       179\n",
      "\n",
      "\n",
      "KNN Accuracy: 0.8212\n",
      "              precision    recall  f1-score   support\n",
      "\n",
      "           0       0.85      0.84      0.85       105\n",
      "           1       0.78      0.80      0.79        74\n",
      "\n",
      "    accuracy                           0.82       179\n",
      "   macro avg       0.82      0.82      0.82       179\n",
      "weighted avg       0.82      0.82      0.82       179\n",
      "\n",
      "\n",
      "Decision Tree Accuracy: 0.7654\n",
      "              precision    recall  f1-score   support\n",
      "\n",
      "           0       0.83      0.75      0.79       105\n",
      "           1       0.69      0.78      0.73        74\n",
      "\n",
      "    accuracy                           0.77       179\n",
      "   macro avg       0.76      0.77      0.76       179\n",
      "weighted avg       0.77      0.77      0.77       179\n",
      "\n",
      "\n",
      "Random Forest Accuracy: 0.8156\n",
      "              precision    recall  f1-score   support\n",
      "\n",
      "           0       0.83      0.86      0.85       105\n",
      "           1       0.79      0.76      0.77        74\n",
      "\n",
      "    accuracy                           0.82       179\n",
      "   macro avg       0.81      0.81      0.81       179\n",
      "weighted avg       0.81      0.82      0.82       179\n",
      "\n",
      "\n",
      "SVM Accuracy: 0.8212\n",
      "              precision    recall  f1-score   support\n",
      "\n",
      "           0       0.83      0.87      0.85       105\n",
      "           1       0.80      0.76      0.78        74\n",
      "\n",
      "    accuracy                           0.82       179\n",
      "   macro avg       0.82      0.81      0.81       179\n",
      "weighted avg       0.82      0.82      0.82       179\n",
      "\n"
     ]
    }
   ],
   "source": [
    "models = {\n",
    "    \"Logistic Regression\": LogisticRegression(max_iter=1000),\n",
    "    \"KNN\": KNeighborsClassifier(n_neighbors=5),\n",
    "    \"Decision Tree\": DecisionTreeClassifier(random_state=42),\n",
    "    \"Random Forest\": RandomForestClassifier(n_estimators=100, random_state=42),\n",
    "    \"SVM\": SVC(kernel='rbf', probability=True)\n",
    "}\n",
    "\n",
    "results = {}\n",
    "\n",
    "for name, model in models.items():\n",
    "    model.fit(X_train, y_train)\n",
    "    y_pred = model.predict(X_test)\n",
    "    acc = accuracy_score(y_test, y_pred)\n",
    "    results[name] = acc\n",
    "    print(f\"\\n{name} Accuracy: {acc:.4f}\")\n",
    "    print(classification_report(y_test, y_pred))"
   ]
  },
  {
   "cell_type": "markdown",
   "id": "90f86f32",
   "metadata": {},
   "source": [
    "I trained five different models — Logistic Regression, KNN, Decision Tree, Random Forest, and SVM — on the training data.\n",
    "Then, I tested them on the test set and checked their accuracy, precision, recall, and F1-score to compare performance"
   ]
  },
  {
   "cell_type": "code",
   "execution_count": 54,
   "id": "4deace5f",
   "metadata": {},
   "outputs": [],
   "source": [
    "estimators = [\n",
    "    ('lr', LogisticRegression(max_iter=1000)),\n",
    "    ('knn', KNeighborsClassifier(n_neighbors=5)),\n",
    "    ('rf', RandomForestClassifier(n_estimators=100, random_state=42)),\n",
    "    ('dt', DecisionTreeClassifier(random_state=42)),\n",
    "    ('svm', SVC(kernel='linear', probability=True))\n",
    "]\n",
    "\n",
    "stack_model = StackingClassifier(\n",
    "    estimators=estimators,\n",
    "    final_estimator=SVC(kernel='linear', probability=True)\n",
    ")\n"
   ]
  },
  {
   "cell_type": "code",
   "execution_count": 55,
   "id": "5a80f120",
   "metadata": {},
   "outputs": [
    {
     "name": "stdout",
     "output_type": "stream",
     "text": [
      "\n",
      "Stacking Ensemble Accuracy: 0.8324\n"
     ]
    }
   ],
   "source": [
    "stack_model.fit(X_train, y_train)\n",
    "stack_acc = stack_model.score(X_test, y_test)\n",
    "results[\"Stacking Ensemble\"] = stack_acc\n",
    "\n",
    "print(f\"\\nStacking Ensemble Accuracy: {stack_acc:.4f}\")"
   ]
  },
  {
   "cell_type": "markdown",
   "id": "ceb81f2c",
   "metadata": {},
   "source": [
    "Stacking is like a team of models working together:\n",
    "\n",
    "Each base model makes a prediction.\n",
    "\n",
    "The final SVM model looks at all their predictions and decides the final output."
   ]
  },
  {
   "cell_type": "code",
   "execution_count": 56,
   "id": "14ebd23e",
   "metadata": {},
   "outputs": [
    {
     "data": {
      "image/png": "[encoded data removed]",
      "text/plain": [
       "<Figure size 900x500 with 1 Axes>"
      ]
     },
     "metadata": {},
     "output_type": "display_data"
    }
   ],
   "source": [
    "plt.figure(figsize=(9,5))\n",
    "sns.barplot(x=list(results.keys()), y=list(results.values()))\n",
    "plt.ylabel(\"Accuracy\")\n",
    "plt.title(\"Model Comparison - Titanic Survival Prediction\")\n",
    "plt.xticks(rotation=45)\n",
    "plt.show()"
   ]
  }
 ],
 "metadata": {
  "kernelspec": {
   "display_name": "Python 3 (ipykernel)",
   "language": "python",
   "name": "python3"
  },
  "language_info": {
   "codemirror_mode": {
    "name": "ipython",
    "version": 3
   },
   "file_extension": ".py",
   "mimetype": "text/x-python",
   "name": "python",
   "nbconvert_exporter": "python",
   "pygments_lexer": "ipython3",
   "version": "3.13.5"
  }
 },
 "nbformat": 4,
 "nbformat_minor": 5
}
